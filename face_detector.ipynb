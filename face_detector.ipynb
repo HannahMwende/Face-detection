{
  "cells": [
    {
      "cell_type": "markdown",
      "metadata": {
        "id": "view-in-github",
        "colab_type": "text"
      },
      "source": [
        "<a href=\"https://colab.research.google.com/github/HannahMwende/Face-detection/blob/main/face_detector.ipynb\" target=\"_parent\"><img src=\"https://colab.research.google.com/assets/colab-badge.svg\" alt=\"Open In Colab\"/></a>"
      ]
    },
    {
      "cell_type": "markdown",
      "metadata": {
        "id": "QNET-DvRsy2V"
      },
      "source": [
        "\n",
        "# Face detection system\n",
        "This project implements a computer vision system designed to automatically detect a specific human face from images. By leveraging a pre-trained Haar Cascade classifier, the system efficiently identifies facial features within an image and draws bounding boxes around the detected faces. The system is built using OpenCV, a popular computer vision library, and aims to provide an intuitive solution for face recognition."
      ]
    },
    {
      "cell_type": "markdown",
      "source": [
        "####Importing libraries"
      ],
      "metadata": {
        "id": "wqF_NUA2tn5C"
      }
    },
    {
      "cell_type": "code",
      "execution_count": 4,
      "metadata": {
        "id": "kdIOLbV8sy2X"
      },
      "outputs": [],
      "source": [
        "#Importing libraries\n",
        "import os\n",
        "import cv2\n",
        "import numpy as np\n",
        "from sklearn.neighbors import KNeighborsClassifier\n",
        "import pickle"
      ]
    },
    {
      "cell_type": "markdown",
      "source": [
        "#### Loading data"
      ],
      "metadata": {
        "id": "42AgKLVOuP4J"
      }
    },
    {
      "cell_type": "code",
      "source": [
        "#Connecting colab to gooogle drive\n",
        "from google.colab import drive\n",
        "drive.mount('/content/drive')\n",
        "\n",
        " #Printing contents of train_data folder\n",
        "print(os.listdir(\"/content/drive/MyDrive/Face_detection/Data/Train_data\"))"
      ],
      "metadata": {
        "colab": {
          "base_uri": "https://localhost:8080/"
        },
        "id": "EnhZT60wtkHb",
        "outputId": "48281872-26d1-4c54-fc4d-23d342a35f9c"
      },
      "execution_count": 6,
      "outputs": [
        {
          "output_type": "stream",
          "name": "stdout",
          "text": [
            "Mounted at /content/drive\n",
            "['download.jpg', 'download (1).jpg', 'download (2).jpg']\n"
          ]
        }
      ]
    },
    {
      "cell_type": "code",
      "source": [
        "#Loading a pre-trained Haar Cascade classifier\n",
        "face_cascade = cv2.CascadeClassifier(cv2.data.haarcascades + \"haarcascade_frontalface_default.xml\")\n"
      ],
      "metadata": {
        "id": "sijKqtxBpoab"
      },
      "execution_count": 7,
      "outputs": []
    },
    {
      "cell_type": "markdown",
      "source": [
        "###Image pre-processing"
      ],
      "metadata": {
        "id": "gjfjiNj6aBZd"
      }
    },
    {
      "cell_type": "code",
      "source": [
        "input_folder = \"/content/drive/MyDrive/Face_detection/Data/Train_data\"\n",
        "output_folder = \"/content/drive/MyDrive/Face_detection/Data/Clean_data\"\n",
        "\n",
        "# Loop through each image in the input folder\n",
        "for filename in os.listdir(input_folder):\n",
        "    if filename.endswith(('.jpg', '.png', '.jpeg')):  # Filter for image files\n",
        "        input_path = os.path.join(input_folder, filename)\n",
        "\n",
        "        # Read the image\n",
        "        image = cv2.imread(input_path)\n",
        "\n",
        "\n",
        "        # Convert to grayscale\n",
        "        gray_image = cv2.cvtColor(image, cv2.COLOR_BGR2GRAY)\n",
        "\n",
        "         # Detect faces in the image\n",
        "        faces = face_cascade.detectMultiScale(gray_image, scaleFactor=1.1, minNeighbors=5, minSize=(30, 30))\n",
        "\n",
        "\n",
        "        # Draw a Bounding Box around the faces in the image\n",
        "        for (x, y, w, h) in faces:\n",
        "         face = gray_image[y:y+h, x:x+w]\n",
        "\n",
        "\n",
        "          #Resize to a standard size (e.g., 100x100)\n",
        "         face_resized = cv2.resize(face, (100, 100))\n",
        "\n",
        "            # Normalize pixel values\n",
        "         face_normalized = face_resized / 255.0  # Scale pixel values to [0, 1]\n",
        "\n",
        "            # Save the processed face\n",
        "         output_path = os.path.join(output_folder, f\"{os.path.splitext(filename)[0]}.jpg\")\n",
        "         cv2.imwrite(output_path, (face_normalized * 255).astype('uint8'))  # Save as uint8\n",
        "\n"
      ],
      "metadata": {
        "id": "6AvrUBtY2_yn"
      },
      "execution_count": 8,
      "outputs": []
    },
    {
      "cell_type": "markdown",
      "source": [
        "Input: faces is a list of tuples returned by detectMultiScale. Each tuple (x, y, w, h) represents:\n",
        "x: The x-coordinate of the top-left corner of the detected face.\n",
        "y: The y-coordinate of the top-left corner of the detected face.\n",
        "w: The width of the bounding box for the face.\n",
        "h: The height of the bounding box for the face.\n",
        "\n",
        "\n",
        "ray_frame[y:y+h, x:x+w]:\n",
        "\n",
        "Extracts the region of interest (ROI) from gray_frame, which corresponds to the rectangle where a face is detected.\n",
        "The slicing:\n",
        "y:y+h: Rows in the image matrix that span the height of the face.\n",
        "x:x+w: Columns in the image matrix that span the width of the face.\n"
      ],
      "metadata": {
        "id": "cWCkJP8jZr0-"
      }
    },
    {
      "cell_type": "code",
      "source": [
        "\n"
      ],
      "metadata": {
        "id": "1LnS1Hobf0uu"
      },
      "execution_count": null,
      "outputs": []
    }
  ],
  "metadata": {
    "kernelspec": {
      "display_name": "Python 3",
      "language": "python",
      "name": "python3"
    },
    "language_info": {
      "name": "python",
      "version": "3.12.8"
    },
    "colab": {
      "provenance": [],
      "include_colab_link": true
    }
  },
  "nbformat": 4,
  "nbformat_minor": 0
}