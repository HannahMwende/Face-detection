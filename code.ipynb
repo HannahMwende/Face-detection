{
  "cells": [
    {
      "cell_type": "markdown",
      "metadata": {
        "id": "view-in-github",
        "colab_type": "text"
      },
      "source": [
        "<a href=\"https://colab.research.google.com/github/HannahMwende/Face-detection/blob/main/code.ipynb\" target=\"_parent\"><img src=\"https://colab.research.google.com/assets/colab-badge.svg\" alt=\"Open In Colab\"/></a>"
      ]
    },
    {
      "cell_type": "markdown",
      "metadata": {
        "id": "QNET-DvRsy2V"
      },
      "source": [
        "\n",
        "# Face detection system\n",
        "This project implements a computer vision system designed to automatically detect a specific human face from images. By leveraging a pre-trained Haar Cascade classifier, the system efficiently identifies facial features within an image and draws bounding boxes around the detected faces. The system is built using OpenCV, a popular computer vision library, and aims to provide an intuitive solution for face recognition."
      ]
    },
    {
      "cell_type": "markdown",
      "source": [
        "####Importing libraries"
      ],
      "metadata": {
        "id": "wqF_NUA2tn5C"
      }
    },
    {
      "cell_type": "code",
      "execution_count": 3,
      "metadata": {
        "id": "kdIOLbV8sy2X"
      },
      "outputs": [],
      "source": [
        "#Importing libraries\n",
        "import os\n",
        "import cv2\n",
        "import numpy as np\n",
        "from sklearn.neighbors import KNeighborsClassifier\n",
        "import pickle"
      ]
    },
    {
      "cell_type": "markdown",
      "source": [
        "#### Loading data"
      ],
      "metadata": {
        "id": "42AgKLVOuP4J"
      }
    },
    {
      "cell_type": "code",
      "source": [
        "#Connecting colab to gooogle drive\n",
        "from google.colab import drive\n",
        "drive.mount('/content/drive')\n",
        "\n",
        " #Printing contents of train_data folder\n",
        "print(os.listdir(\"/content/drive/MyDrive/Face_detection/Data/Train_data\"))"
      ],
      "metadata": {
        "colab": {
          "base_uri": "https://localhost:8080/"
        },
        "id": "EnhZT60wtkHb",
        "outputId": "49137983-c338-4f35-a995-f568d7eda650"
      },
      "execution_count": 38,
      "outputs": [
        {
          "output_type": "stream",
          "name": "stdout",
          "text": [
            "Drive already mounted at /content/drive; to attempt to forcibly remount, call drive.mount(\"/content/drive\", force_remount=True).\n"
          ]
        }
      ]
    },
    {
      "cell_type": "code",
      "source": [
        "#Load a pre-trained Haar Cascade classifier\n",
        "face_cascade = cv2.CascadeClassifier(cv2.data.haarcascades + \"haarcascade_frontalface_default.xml\")\n"
      ],
      "metadata": {
        "id": "sijKqtxBpoab"
      },
      "execution_count": 36,
      "outputs": []
    },
    {
      "cell_type": "code",
      "source": [
        "input_folder = \"/content/drive/MyDrive/Face_detection/Data/Train_data\"\n",
        "\n",
        "# Loop through each image in the input folder\n",
        "for filename in os.listdir(input_folder):\n",
        "    if filename.endswith(('.jpg', '.png', '.jpeg')):  # Filter for image files\n",
        "        input_path = os.path.join(input_folder, filename)\n",
        "\n",
        "        # Read the image\n",
        "        image = cv2.imread(input_path)\n",
        "\n",
        "         # Resize the image\n",
        "        resized_image = cv2.resize(image, (100, 100))  # Resize to 100x100\n",
        "\n",
        "        # Convert to grayscale\n",
        "        gray_image = cv2.cvtColor(resized_image, cv2.COLOR_BGR2GRAY)\n",
        "\n",
        "\n",
        "        faces = face_cascade.detectMultiScale(gray_image, scaleFactor=1.1, minNeighbors=5, minSize=(30, 30))\n",
        ""
      ],
      "metadata": {
        "id": "6AvrUBtY2_yn"
      },
      "execution_count": 37,
      "outputs": []
    },
    {
      "cell_type": "code",
      "source": [
        "\n"
      ],
      "metadata": {
        "id": "1LnS1Hobf0uu"
      },
      "execution_count": null,
      "outputs": []
    }
  ],
  "metadata": {
    "kernelspec": {
      "display_name": "Python 3",
      "language": "python",
      "name": "python3"
    },
    "language_info": {
      "name": "python",
      "version": "3.12.8"
    },
    "colab": {
      "provenance": [],
      "include_colab_link": true
    }
  },
  "nbformat": 4,
  "nbformat_minor": 0
}